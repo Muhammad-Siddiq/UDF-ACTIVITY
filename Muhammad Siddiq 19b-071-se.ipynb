{
 "cells": [
  {
   "cell_type": "markdown",
   "metadata": {},
   "source": [
    "# MUHAMMAD SIDDIQ 19B-071-SE "
   ]
  },
  {
   "cell_type": "markdown",
   "metadata": {},
   "source": [
    "# Python User Define Function Practice Activity - 2 "
   ]
  },
  {
   "cell_type": "markdown",
   "metadata": {},
   "source": [
    "Asst. Prof. Syed Faisal Ali              $\\;\\;\\;\\;\\;\\;$              Programming Fundamentals - FALL 2019 $\\;\\;\\;\\;\\;\\;$ Software Engineering                     $\\;\\;\\;\\;\\;\\;$                   Dated: 27 Nov 2019"
   ]
  },
  {
   "cell_type": "markdown",
   "metadata": {},
   "source": [
    "Question 1: Create a function to find the following:\n",
    "If the base of triangle is 3 cm long and its equilateral triangle and the radius of circle is 1.5 cm then find the area of triangle shaded. \n"
   ]
  },
  {
   "cell_type": "markdown",
   "metadata": {},
   "source": [
    "![proj](q1.jpg)"
   ]
  },
  {
   "cell_type": "code",
   "execution_count": 39,
   "metadata": {},
   "outputs": [
    {
     "data": {
      "text/plain": [
       "2.25"
      ]
     },
     "execution_count": 39,
     "metadata": {},
     "output_type": "execute_result"
    }
   ],
   "source": [
    "def area(b,r):\n",
    "    h=b*r/2\n",
    "    return h\n",
    "area(3,1.5)"
   ]
  },
  {
   "cell_type": "markdown",
   "metadata": {},
   "source": [
    "Question 2: Create a function which can read a dictionary of your family members such as 5 members. \n",
    "1 Abbu, 1 Ammi, 2 Brothers 1 Sister. Now feed this data in dictionary in terms of name and relations.\n",
    "The UDF will ask findrelation() in this you will enter Brother it will return the names of two brothers you have inserted. In case if the relation is not found it will return “Sorry the relation doesn’t exist in your family.” \n"
   ]
  },
  {
   "cell_type": "code",
   "execution_count": 40,
   "metadata": {},
   "outputs": [
    {
     "data": {
      "text/plain": [
       "('Ali', 'Raffay')"
      ]
     },
     "execution_count": 40,
     "metadata": {},
     "output_type": "execute_result"
    }
   ],
   "source": [
    "def findrelation(d):\n",
    "    dict={'Mother': 'Huma', 'Father': 'Rafiq', 'Brother': ('Ali','Raffay'),'Sister':'Noor'}\n",
    "    a=dict[d]\n",
    "    return a\n",
    "findrelation('Brother')\n",
    "    "
   ]
  },
  {
   "cell_type": "markdown",
   "metadata": {},
   "source": [
    "Question 3: Create a function to find the following:\n",
    "If the base of triangle is 5 cm long and its equilateral triangle and the radius of circle is 2.25 cm then find the area of triangle shaded. \n"
   ]
  },
  {
   "cell_type": "markdown",
   "metadata": {},
   "source": [
    "![proj](q3.jpg)"
   ]
  },
  {
   "cell_type": "code",
   "execution_count": 44,
   "metadata": {},
   "outputs": [
    {
     "data": {
      "text/plain": [
       "10.825317547305483"
      ]
     },
     "execution_count": 44,
     "metadata": {},
     "output_type": "execute_result"
    }
   ],
   "source": [
    "import math\n",
    "def f(b):\n",
    "    h=b**2*((math.sqrt(3))/4)\n",
    "    return h\n",
    "f(5)"
   ]
  },
  {
   "cell_type": "markdown",
   "metadata": {},
   "source": [
    "Question 4:\n",
    "Create a function that takes a list of random numbers from users and add only those which are even. If all the numbers are odd it will return sorry no even number found.\n"
   ]
  },
  {
   "cell_type": "code",
   "execution_count": 27,
   "metadata": {},
   "outputs": [
    {
     "name": "stdout",
     "output_type": "stream",
     "text": [
      "Please enter the Total Number of List Elements: 4\n",
      "Please enter the Value of 1 Element : 2\n",
      "Please enter the Value of 2 Element : 4\n",
      "Please enter the Value of 3 Element : 6\n",
      "Please enter the Value of 4 Element : 8\n",
      "\n",
      "The Sum of Even Numbers in this List =   20\n"
     ]
    }
   ],
   "source": [
    "NumList = []\n",
    "Even_Sum = 0\n",
    "Number = int(input(\"Please enter the Total Number of List Elements: \"))\n",
    "for i in range(1, Number + 1):\n",
    "    value = int(input(\"Please enter the Value of %d Element : \" %i))\n",
    "    NumList.append(value)\n",
    "for j in range(Number):\n",
    "    if(NumList[j] % 2 == 0):\n",
    "        Even_Sum = Even_Sum + NumList[j]\n",
    "    else:\n",
    "        print(\"sorry no even number.\")\n",
    "print(\"\\nThe Sum of Even Numbers in this List =  \", Even_Sum)"
   ]
  },
  {
   "cell_type": "markdown",
   "metadata": {},
   "source": [
    "Question 5:\n",
    "Write a function which can take a list of numbers and it will return sorted list.\n"
   ]
  },
  {
   "cell_type": "code",
   "execution_count": null,
   "metadata": {},
   "outputs": [],
   "source": [
    "lst=[]\n",
    "n = int(input(\"Enter number of elements : \"))\n",
    "for i in range(0,n):\n",
    "    n=int(input())\n",
    "    lst.sort()\n",
    "print(lst.sort)"
   ]
  },
  {
   "cell_type": "markdown",
   "metadata": {},
   "source": [
    "Question 6:\n",
    "Write a function that will take the radius and return the perimeter and area of circle with 5% increment.\n"
   ]
  },
  {
   "cell_type": "code",
   "execution_count": 34,
   "metadata": {},
   "outputs": [
    {
     "name": "stdout",
     "output_type": "stream",
     "text": [
      "117.82499999999999\n"
     ]
    }
   ],
   "source": [
    "def findArea(r): \n",
    "    PI = 3.142\n",
    "    return PI * (r*r) * 1.5\n",
    "print(findArea(5))\n",
    "\n"
   ]
  },
  {
   "cell_type": "markdown",
   "metadata": {},
   "source": [
    "Question 7:\n",
    "Write a function that will take the strings as argument and return number of vowels and consonants.\n"
   ]
  },
  {
   "cell_type": "code",
   "execution_count": 38,
   "metadata": {},
   "outputs": [
    {
     "name": "stdout",
     "output_type": "stream",
     "text": [
      "2\n",
      "4\n",
      "['i', 'i']\n",
      "['S', 'd', 'd', 'q']\n"
     ]
    }
   ],
   "source": [
    "def Check(string, vowels, consonants): \n",
    "    final = [each for each in string if each in vowels] \n",
    "    final1= [each for each in string if each in consonants]\n",
    "    print(len(final)) \n",
    "    print(len(final1))\n",
    "    print(final) \n",
    "    print(final1)\n",
    "vowels = \"AeEeIiOoUu\"\n",
    "consonants=\"BbCcDdFfGgHhJjKkLlMmNnPpQqRrSsTtVvWwXxYyZz\"\n",
    "string='Siddiq'\n",
    "Check(string, vowels,consonants)\n"
   ]
  },
  {
   "cell_type": "markdown",
   "metadata": {},
   "source": [
    "Question 8:\n",
    "Write a function that will take length and breadth for a rectangle and return perimeter and area of rectangle with 8% increment.\n"
   ]
  },
  {
   "cell_type": "code",
   "execution_count": 53,
   "metadata": {},
   "outputs": [
    {
     "name": "stdout",
     "output_type": "stream",
     "text": [
      "Area =  32.4\n",
      "Perimeter =  23.76\n"
     ]
    }
   ],
   "source": [
    "def areaRectangle(a, b): \n",
    "    h= (a * b)\n",
    "    return h * (8/100) + h\n",
    "      \n",
    "def perimeterRectangle(a, b): \n",
    "    c = (2 * (a + b)) \n",
    "    return c * (8/100) + c\n",
    " \n",
    "a = 5\n",
    "b = 6 \n",
    "print (\"Area = \", areaRectangle(a, b) ) \n",
    "print (\"Perimeter = \", perimeterRectangle(a, b))"
   ]
  },
  {
   "cell_type": "markdown",
   "metadata": {},
   "source": [
    "Question 9:\n",
    "Write a function that can take the numbers in strings. From string find which number is even and which one is odd. Save them in two different lists and generate the result.\n"
   ]
  },
  {
   "cell_type": "code",
   "execution_count": 61,
   "metadata": {},
   "outputs": [
    {
     "name": "stdout",
     "output_type": "stream",
     "text": [
      "Even numbers  4\n",
      "odd numbers 5\n",
      "list of even ['2', '4', '6', '8']\n",
      "list of odd ['1', '3', '5', '7', '9']\n"
     ]
    }
   ],
   "source": [
    "s=\"123456789\"\n",
    "e=0\n",
    "o=0\n",
    "even=[]\n",
    "odd=[]\n",
    "for i in s:\n",
    "    if int(i)%2==0:\n",
    "        e +=1\n",
    "        even.append(i)\n",
    "    else:\n",
    "        o +=1\n",
    "        odd.append(i)\n",
    "print(\"Even numbers \",e)\n",
    "print(\"odd numbers\",o)\n",
    "print(\"list of even\",even)\n",
    "print(\"list of odd\",odd)"
   ]
  },
  {
   "cell_type": "markdown",
   "metadata": {},
   "source": [
    "Question 10:\n",
    "Write a function which will take the string from the user and return how many alphabets have been used in it and which alphabets are missing.\n"
   ]
  },
  {
   "cell_type": "code",
   "execution_count": 68,
   "metadata": {},
   "outputs": [
    {
     "name": "stdout",
     "output_type": "stream",
     "text": [
      "{'f', 'u', 'e', 'w', 'h', 'k', 'b', 'n', 'm', 'c', 'a', 'o', 'x', 'r', 'v', 'y', 'z', 'j', 'l', 't', 'g', 'p'}\n"
     ]
    }
   ],
   "source": [
    "from string import ascii_lowercase\n",
    "\n",
    "alphabet = set(ascii_lowercase)\n",
    "\n",
    "def missing_letters(string):\n",
    "    return alphabet - set(string.lower())\n",
    "\n",
    "print(missing_letters(\"siddiq\"))"
   ]
  },
  {
   "cell_type": "markdown",
   "metadata": {},
   "source": [
    "Question 11:\n",
    "Write a function that will take verbs in words and return a list of verbs with continuous tense by adding (ing) at the end of each verb.\n"
   ]
  },
  {
   "cell_type": "code",
   "execution_count": 90,
   "metadata": {},
   "outputs": [
    {
     "name": "stdout",
     "output_type": "stream",
     "text": [
      "verb: living\n"
     ]
    }
   ],
   "source": [
    "def verb(s):\n",
    "    if s[-1] == 'e':\n",
    "        s=s.replace(s[-1],\"\")\n",
    "        print(\"verb:\",s+\"ing\")\n",
    "    else:\n",
    "        print(\"verb:\",s+\"ing\")\n",
    "verb(\"live\")"
   ]
  },
  {
   "cell_type": "markdown",
   "metadata": {},
   "source": [
    "Question 12:\n",
    "Make a function which can take two radius of circles and find the areas of it and subtract smaller one from larger one and tell the remaining area of circle.\n"
   ]
  },
  {
   "cell_type": "code",
   "execution_count": 86,
   "metadata": {},
   "outputs": [
    {
     "name": "stdout",
     "output_type": "stream",
     "text": [
      "65.982\n"
     ]
    }
   ],
   "source": [
    "pi=3.142\n",
    "def rArea(r,r1):\n",
    "    a=pi*r**2\n",
    "    a1=pi*r1**2\n",
    "    if a > a1:\n",
    "        left=(a1-a)\n",
    "    else:\n",
    "        left=(a-a1)\n",
    "    return abs(left)\n",
    "print(rArea(5,2))"
   ]
  },
  {
   "cell_type": "markdown",
   "metadata": {},
   "source": [
    "Question 13:\n",
    "Write a function that will take a string and calculate number of Upper case letters and lower case letters.\n"
   ]
  },
  {
   "cell_type": "code",
   "execution_count": 77,
   "metadata": {},
   "outputs": [
    {
     "name": "stdout",
     "output_type": "stream",
     "text": [
      "No. of Upper case characters : 3, No. of Lower case characters : 24\n"
     ]
    }
   ],
   "source": [
    "def up_low(s):      \n",
    "    u = sum(1 for i in s if i.isupper())\n",
    "    l = sum(1 for i in s if i.islower())\n",
    "    print( \"No. of Upper case characters : %s, No. of Lower case characters : %s\" % (u,l))\n",
    "\n",
    "up_low(\"My name is Siddiq?, Whats your name?\")"
   ]
  },
  {
   "cell_type": "markdown",
   "metadata": {},
   "source": [
    "Question 14:\n",
    "Write a function which will take length and breadth of two rectangles. Subtract the smaller rectangle from the larger rectangle and return the area left behind.\n"
   ]
  },
  {
   "cell_type": "code",
   "execution_count": 83,
   "metadata": {},
   "outputs": [
    {
     "name": "stdout",
     "output_type": "stream",
     "text": [
      "18\n"
     ]
    }
   ],
   "source": [
    "def areaRectangle(a,b,aa,bb): \n",
    "    h= a*b\n",
    "    h1=aa*bb\n",
    "    if h > h1:\n",
    "        left = (h1-h)\n",
    "    else:\n",
    "        left=(h-h1)\n",
    "    return abs(left)\n",
    "print(areaRectangle(5,6,4,3))\n",
    " "
   ]
  },
  {
   "cell_type": "markdown",
   "metadata": {},
   "source": [
    "Question 15:\n",
    "Create a function that can add the fractions in series such as 1 to 8 = 1/8+1/7+1/6+1/5 …… ½ and return the result in fraction not in decimal.\n"
   ]
  },
  {
   "cell_type": "code",
   "execution_count": 99,
   "metadata": {},
   "outputs": [
    {
     "name": "stdout",
     "output_type": "stream",
     "text": [
      "4/6\n"
     ]
    }
   ],
   "source": [
    "def fraction( numerator, denominator):\n",
    "    min_val = min(numerator, denominator)\n",
    "    for divisor in range(2, min_val+1):\n",
    "        if (numerator % divisor == 0 and denominator % divisor == 0):\n",
    "            return(fraction(numerator / divisor, denominator / divisor))\n",
    "print('{}/{}'.format(4,6))"
   ]
  },
  {
   "cell_type": "markdown",
   "metadata": {},
   "source": [
    "Question 16:\n",
    "Write a function which will take height and base for a triangle and \n"
   ]
  },
  {
   "cell_type": "code",
   "execution_count": 100,
   "metadata": {},
   "outputs": [
    {
     "data": {
      "text/plain": [
       "3.0"
      ]
     },
     "execution_count": 100,
     "metadata": {},
     "output_type": "execute_result"
    }
   ],
   "source": [
    "def area(a,b):\n",
    "    h=(a*b)/2\n",
    "    return h\n",
    "area(2,3)"
   ]
  },
  {
   "cell_type": "markdown",
   "metadata": {},
   "source": [
    "Question 17:\n",
    "Write a function which will take a list of fruits names. The function will return how many alphabets are repetitive in the names of fruits and how many are unique letters.\n"
   ]
  },
  {
   "cell_type": "code",
   "execution_count": 3,
   "metadata": {},
   "outputs": [
    {
     "data": {
      "text/plain": [
       "[['l', 'e', 'b'], ['a', 'p', 'n']]"
      ]
     },
     "execution_count": 3,
     "metadata": {},
     "output_type": "execute_result"
    }
   ],
   "source": [
    "mylist = ['apple', 'banana']\n",
    "\n",
    "\n",
    "def count_letters(iterat):\n",
    "    counted = {}\n",
    "    for i in iterat:\n",
    "        for l in i:\n",
    "            if l in counted:\n",
    "                counted[l] += 1\n",
    "            else:\n",
    "                counted[l] = 1\n",
    "    return [[l for l in counted if counted[l] == 1], [l for l in counted if counted[l] > 1]]\n",
    "\n",
    "count_letters(mylist)"
   ]
  },
  {
   "cell_type": "markdown",
   "metadata": {},
   "source": [
    "Question 18:\n",
    "Write a function that can take square length and radius of circle. Find the area of both and subtract the smallest shape from largest one and return the remaining shape area.\n"
   ]
  },
  {
   "cell_type": "code",
   "execution_count": 6,
   "metadata": {},
   "outputs": [
    {
     "data": {
      "text/plain": [
       "46.272"
      ]
     },
     "execution_count": 6,
     "metadata": {},
     "output_type": "execute_result"
    }
   ],
   "source": [
    "pi=3.142\n",
    "def l_r(d,r):\n",
    "    sq=d**2\n",
    "    cir=pi*r**2\n",
    "    if sq>cir:\n",
    "        remain=(sq-cir)\n",
    "    else:\n",
    "        remain=(cir-sq)\n",
    "    return remain\n",
    "l_r(2,4)"
   ]
  },
  {
   "cell_type": "code",
   "execution_count": null,
   "metadata": {},
   "outputs": [],
   "source": []
  }
 ],
 "metadata": {
  "kernelspec": {
   "display_name": "Python 3",
   "language": "python",
   "name": "python3"
  },
  "language_info": {
   "codemirror_mode": {
    "name": "ipython",
    "version": 3
   },
   "file_extension": ".py",
   "mimetype": "text/x-python",
   "name": "python",
   "nbconvert_exporter": "python",
   "pygments_lexer": "ipython3",
   "version": "3.7.3"
  }
 },
 "nbformat": 4,
 "nbformat_minor": 2
}
